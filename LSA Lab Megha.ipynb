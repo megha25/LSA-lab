{
 "cells": [
  {
   "cell_type": "code",
   "execution_count": 1,
   "metadata": {
    "collapsed": true
   },
   "outputs": [],
   "source": [
    "from sklearn.datasets import fetch_20newsgroups\n",
    "import nltk\n",
    "from nltk.corpus import stopwords\n",
    "from sklearn.feature_extraction.text import TfidfVectorizer\n",
    "from sklearn.decomposition import TruncatedSVD"
   ]
  },
  {
   "cell_type": "code",
   "execution_count": 2,
   "metadata": {
    "collapsed": false
   },
   "outputs": [
    {
     "name": "stdout",
     "output_type": "stream",
     "text": [
      "[nltk_data] Downloading package stopwords to C:\\Users\\Megha\n",
      "[nltk_data]     Sogani\\AppData\\Roaming\\nltk_data...\n",
      "[nltk_data]   Package stopwords is already up-to-date!\n"
     ]
    },
    {
     "data": {
      "text/plain": [
       "True"
      ]
     },
     "execution_count": 2,
     "metadata": {},
     "output_type": "execute_result"
    }
   ],
   "source": [
    "nltk.download('stopwords')"
   ]
  },
  {
   "cell_type": "code",
   "execution_count": 3,
   "metadata": {
    "collapsed": true
   },
   "outputs": [],
   "source": [
    "from sklearn.datasets import fetch_20newsgroups\n",
    "categories = ['rec.sport.baseball']\n",
    "dataset = fetch_20newsgroups(subset='all',shuffle=True, random_state=42, categories=categories)\n",
    "corpus = dataset.data"
   ]
  },
  {
   "cell_type": "code",
   "execution_count": 4,
   "metadata": {
    "collapsed": true
   },
   "outputs": [],
   "source": [
    "stopset = set(stopwords.words('english'))\n",
    "stopset.update(['all','also','ask','become','like','later','so','lt','p','/p','br','amp','quot','field','font','normal','span','0px','rgb','style','51','spacing','text','helvetica','size','family','space','arial','height','indent','letter','line','none','sans','serif','transform','line','variant','weight','times','strong','new','video','title','white','word','letter','roman','0pt','16','color','12','14','21','neue','apple','class',])"
   ]
  },
  {
   "cell_type": "code",
   "execution_count": 5,
   "metadata": {
    "collapsed": false
   },
   "outputs": [
    {
     "data": {
      "text/plain": [
       "\"From: writingctr@leo.bsuvc.bsu.edu\\nSubject: Re: CUB fever.\\nOrganization: Ball State University, Muncie, In - Univ. Computing Svc's\\nLines: 21\\n\\n\\nIn article <kingoz.735285670@camelot>, kingoz@camelot.bradley.edu (Orin Roth) writes:\\n> \\n>    CUB fever is hitting me again. I'm beginning to think they have a \\n>    chance this year. (what the heck am i thinking?)\\n>    Sorry. Just a moment of incompetence.\\n>    I'll be ok. Really. \\n>    Orin.\\n>    Bradley U.\\n> \\n> --\\n> I'm really a jester in disguise!                                   \\nI hear ya!  Then again, we must remember that we are indeed Cub fans, and\\nthat the Cubs will eventually blow it.  After all, the Cubs are the easiest\\nteam in the National League to root for.  No Pressure.  You know they will\\nlose eventually.  Oh well, I suppose we must have faith.  After all, they\\ndo look pretty good, and they don't even have Sandberg back yet.  \\n\\nCUBS IN '93!!!!!\\n\\nCHA\\n\""
      ]
     },
     "execution_count": 5,
     "metadata": {},
     "output_type": "execute_result"
    }
   ],
   "source": [
    "corpus[0]"
   ]
  },
  {
   "cell_type": "code",
   "execution_count": 6,
   "metadata": {
    "collapsed": true
   },
   "outputs": [],
   "source": [
    "vectorizer = TfidfVectorizer(stop_words=stopset,\n",
    "                                 use_idf=True, ngram_range=(1, 3))\n",
    "X = vectorizer.fit_transform(corpus)"
   ]
  },
  {
   "cell_type": "code",
   "execution_count": 7,
   "metadata": {
    "collapsed": false
   },
   "outputs": [
    {
     "name": "stdout",
     "output_type": "stream",
     "text": [
      "  (0, 50983)\t0.0739614450823\n",
      "  (0, 186252)\t0.0739614450823\n",
      "  (0, 28506)\t0.0739614450823\n",
      "  (0, 144061)\t0.0739614450823\n",
      "  (0, 63600)\t0.0739614450823\n",
      "  (0, 77154)\t0.0739614450823\n",
      "  (0, 131342)\t0.0739614450823\n",
      "  (0, 101548)\t0.0739614450823\n",
      "  (0, 65990)\t0.0739614450823\n",
      "  (0, 112670)\t0.0739614450823\n",
      "  (0, 160849)\t0.0739614450823\n",
      "  (0, 178396)\t0.0739614450823\n",
      "  (0, 117790)\t0.0739614450823\n",
      "  (0, 63740)\t0.0739614450823\n",
      "  (0, 102072)\t0.0739614450823\n",
      "  (0, 94554)\t0.0739614450823\n",
      "  (0, 131257)\t0.0739614450823\n",
      "  (0, 141219)\t0.0739614450823\n",
      "  (0, 97110)\t0.0739614450823\n",
      "  (0, 113312)\t0.0739614450823\n",
      "  (0, 163221)\t0.0739614450823\n",
      "  (0, 58819)\t0.0739614450823\n",
      "  (0, 51023)\t0.0739614450823\n",
      "  (0, 35245)\t0.0739614450823\n",
      "  (0, 63726)\t0.0739614450823\n",
      "  :\t:\n",
      "  (0, 182800)\t0.015655015889\n",
      "  (0, 141455)\t0.0555802309707\n",
      "  (0, 120460)\t0.111160461941\n",
      "  (0, 37036)\t0.0996785439776\n",
      "  (0, 40212)\t0.105257944488\n",
      "  (0, 16584)\t0.0739614450823\n",
      "  (0, 93960)\t0.111160461941\n",
      "  (0, 25374)\t0.0161922460089\n",
      "  (0, 99202)\t0.0103208000105\n",
      "  (0, 161441)\t0.0611096618209\n",
      "  (0, 47704)\t0.0390694082984\n",
      "  (0, 172838)\t0.039417195873\n",
      "  (0, 112470)\t0.0611096618209\n",
      "  (0, 172874)\t0.0180626374482\n",
      "  (0, 156555)\t0.0374880148692\n",
      "  (0, 29028)\t0.0308265507854\n",
      "  (0, 119847)\t0.0103415667199\n",
      "  (0, 67537)\t0.1253821105\n",
      "  (0, 50905)\t0.161996512624\n",
      "  (0, 159362)\t0.0102587509246\n",
      "  (0, 59318)\t0.0238944824554\n",
      "  (0, 38278)\t0.0508660032618\n",
      "  (0, 38288)\t0.0508660032618\n",
      "  (0, 98135)\t0.0498392719888\n",
      "  (0, 183734)\t0.0739614450823\n"
     ]
    }
   ],
   "source": [
    "print(X[0])"
   ]
  },
  {
   "cell_type": "code",
   "execution_count": 8,
   "metadata": {
    "collapsed": false
   },
   "outputs": [
    {
     "data": {
      "text/plain": [
       "TruncatedSVD(algorithm='randomized', n_components=27, n_iter=100,\n",
       "       random_state=None, tol=0.0)"
      ]
     },
     "execution_count": 8,
     "metadata": {},
     "output_type": "execute_result"
    }
   ],
   "source": [
    "lsa = TruncatedSVD(n_components=27, n_iter=100)\n",
    "lsa.fit(X)"
   ]
  },
  {
   "cell_type": "code",
   "execution_count": 9,
   "metadata": {
    "collapsed": false
   },
   "outputs": [
    {
     "data": {
      "text/plain": [
       "array([ 0.01604362,  0.00501308,  0.00078433, ...,  0.00104938,\n",
       "        0.00104938,  0.00104938])"
      ]
     },
     "execution_count": 9,
     "metadata": {},
     "output_type": "execute_result"
    }
   ],
   "source": [
    "lsa.components_[0]"
   ]
  },
  {
   "cell_type": "code",
   "execution_count": 10,
   "metadata": {
    "collapsed": false
   },
   "outputs": [
    {
     "name": "stdout",
     "output_type": "stream",
     "text": [
      "Concept 0:\n",
      "edu\n",
      "com\n",
      "year\n",
      "writes\n",
      "team\n",
      "would\n",
      "game\n",
      "article\n",
      "cs\n",
      "baseball\n",
      " \n",
      "Concept 1:\n",
      "writes\n",
      "could\n",
      "know\n",
      "jewish\n",
      "season\n",
      "world\n",
      "ca\n",
      "one\n",
      "much\n",
      "players\n",
      " \n",
      "Concept 2:\n",
      "com\n",
      "runs\n",
      "better\n",
      "morris\n",
      "kingston\n",
      "posting\n",
      "ibm\n",
      "would\n",
      "first\n",
      "let\n",
      " \n",
      "Concept 3:\n",
      "team\n",
      "cs\n",
      "roger\n",
      "last\n",
      "games\n",
      "first\n",
      "play\n",
      "baseball\n",
      "university\n",
      "lost\n",
      " \n",
      "Concept 4:\n",
      "game\n",
      "cs\n",
      "gant\n",
      "get\n",
      "year\n",
      "00\n",
      "season\n",
      "hirschbeck\n",
      "runs\n",
      "last\n",
      " \n",
      "Concept 5:\n",
      "year\n",
      "first\n",
      "university\n",
      "00\n",
      "run\n",
      "braves\n",
      "one\n",
      "baseball\n",
      "give\n",
      "back\n",
      " \n",
      "Concept 6:\n",
      "year\n",
      "good\n",
      "still\n",
      "way\n",
      "00 00 01\n",
      "look\n",
      "really\n",
      "writes article\n",
      "players\n",
      "team\n",
      " \n",
      "Concept 7:\n",
      "00\n",
      "00 00\n",
      "get\n",
      "would\n",
      "00 00 00\n",
      "day\n",
      "hitting\n",
      "really\n",
      "say\n",
      "00 00 000\n",
      " \n",
      "Concept 8:\n",
      "00\n",
      "00 00\n",
      "00 00 00\n",
      "still\n",
      "good\n",
      "runs\n",
      "first\n",
      "00 00 01\n",
      "years\n",
      "com\n",
      " \n",
      "Concept 9:\n",
      "edu\n",
      "season\n",
      "would\n",
      "writes\n",
      "host\n",
      "hitter\n",
      "game\n",
      "still\n",
      "hit\n",
      "runs\n",
      " \n",
      "Concept 10:\n",
      "organization\n",
      "com\n",
      "game\n",
      "get\n",
      "host\n",
      "cs\n",
      "home\n",
      "much\n",
      "series\n",
      "years\n",
      " \n",
      "Concept 11:\n",
      "time\n",
      "lines\n",
      "make\n",
      "see\n",
      "right\n",
      "home\n",
      "hitter\n",
      "pitch\n",
      "three\n",
      "na\n",
      " \n",
      "Concept 12:\n",
      "better\n",
      "even\n",
      "organization\n",
      "hit\n",
      "uiuc edu\n",
      "season\n",
      "lines\n",
      "players\n",
      "sox\n",
      "play\n",
      " \n",
      "Concept 13:\n",
      "com\n",
      "game\n",
      "would\n",
      "see\n",
      "morris\n",
      "writes\n",
      "baseball\n",
      "one\n",
      "jays\n",
      "year\n",
      " \n",
      "Concept 14:\n",
      "subject\n",
      "team\n",
      "edu\n",
      "writes\n",
      "many\n",
      "organization\n",
      "think\n",
      "runs\n",
      "make\n",
      "take\n",
      " \n",
      "Concept 15:\n",
      "year\n",
      "good\n",
      "cs\n",
      "know\n",
      "many\n",
      "usa\n",
      "pitching\n",
      "player\n",
      "players\n",
      "better\n",
      " \n",
      "Concept 16:\n",
      "would\n",
      "team\n",
      "time\n",
      "even\n",
      "years\n",
      "good\n",
      "look\n",
      "let\n",
      "think\n",
      "people\n",
      " \n",
      "Concept 17:\n",
      "writes\n",
      "organization\n",
      "com\n",
      "posting\n",
      "go\n",
      "good\n",
      "00 00 01\n",
      "mark\n",
      "say\n",
      "nntp posting\n",
      " \n",
      "Concept 18:\n",
      "com\n",
      "better\n",
      "nntp posting host\n",
      "posting host\n",
      "nntp posting\n",
      "nntp\n",
      "games\n",
      "host\n",
      "players\n",
      "posting\n",
      " \n",
      "Concept 19:\n",
      "would\n",
      "university\n",
      "nntp posting\n",
      "nntp\n",
      "lines\n",
      "first\n",
      "team\n",
      "nntp posting host\n",
      "posting host\n",
      "think\n",
      " \n",
      "Concept 20:\n",
      "good\n",
      "hit\n",
      "would\n",
      "last\n",
      "lines\n",
      "one\n",
      "article\n",
      "best\n",
      "better\n",
      "run\n",
      " \n",
      "Concept 21:\n",
      "think\n",
      "organization\n",
      "time\n",
      "david\n",
      "run\n",
      "players\n",
      "last\n",
      "organization university\n",
      "make\n",
      "well\n",
      " \n",
      "Concept 22:\n",
      "lines\n",
      "players\n",
      "cs\n",
      "year\n",
      "organization\n",
      "think\n",
      "baseball\n",
      "netcom\n",
      "game\n",
      "world\n",
      " \n",
      "Concept 23:\n",
      "posting\n",
      "com\n",
      "writes\n",
      "better\n",
      "article\n",
      "runs\n",
      "time\n",
      "cs\n",
      "one\n",
      "player\n",
      " \n",
      "Concept 24:\n",
      "baseball\n",
      "nntp posting host\n",
      "posting host\n",
      "posting\n",
      "com\n",
      "first\n",
      "player\n",
      "nntp posting\n",
      "really\n",
      "nntp\n",
      " \n",
      "Concept 25:\n",
      "university\n",
      "well\n",
      "players\n",
      "time\n",
      "long\n",
      "know\n",
      "braves\n",
      "pitching\n",
      "roger\n",
      "years\n",
      " \n",
      "Concept 26:\n",
      "subject\n",
      "article\n",
      "time\n",
      "organization\n",
      "last\n",
      "games\n",
      "ca\n",
      "best\n",
      "know\n",
      "posting\n",
      " \n"
     ]
    }
   ],
   "source": [
    "terms = vectorizer.get_feature_names()\n",
    "for i, comp in enumerate(lsa.components_): \n",
    "    termsInComp = zip (terms,comp)\n",
    "    sortedTerms =  sorted(termsInComp, key=lambda x: x[1], reverse=True) [:10]\n",
    "    print(\"Concept %d:\" % i)\n",
    "    for term in sortedTerms:\n",
    "        print(term[0])\n",
    "    print(\" \")"
   ]
  },
  {
   "cell_type": "code",
   "execution_count": null,
   "metadata": {
    "collapsed": true
   },
   "outputs": [],
   "source": []
  }
 ],
 "metadata": {
  "anaconda-cloud": {},
  "kernelspec": {
   "display_name": "Python [Root]",
   "language": "python",
   "name": "Python [Root]"
  },
  "language_info": {
   "codemirror_mode": {
    "name": "ipython",
    "version": 3
   },
   "file_extension": ".py",
   "mimetype": "text/x-python",
   "name": "python",
   "nbconvert_exporter": "python",
   "pygments_lexer": "ipython3",
   "version": "3.5.2"
  }
 },
 "nbformat": 4,
 "nbformat_minor": 0
}
