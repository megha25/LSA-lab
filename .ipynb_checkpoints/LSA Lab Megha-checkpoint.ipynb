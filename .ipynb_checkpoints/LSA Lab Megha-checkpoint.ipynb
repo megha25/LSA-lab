{
 "cells": [
  {
   "cell_type": "code",
   "execution_count": 1,
   "metadata": {
    "collapsed": true
   },
   "outputs": [],
   "source": [
    "from sklearn.datasets import fetch_20newsgroups\n",
    "import nltk\n",
    "from nltk.corpus import stopwords\n",
    "from sklearn.feature_extraction.text import TfidfVectorizer\n",
    "from sklearn.decomposition import TruncatedSVD"
   ]
  },
  {
   "cell_type": "code",
   "execution_count": 2,
   "metadata": {
    "collapsed": false
   },
   "outputs": [
    {
     "name": "stdout",
     "output_type": "stream",
     "text": [
      "[nltk_data] Downloading package stopwords to C:\\Users\\Megha\n",
      "[nltk_data]     Sogani\\AppData\\Roaming\\nltk_data...\n",
      "[nltk_data]   Package stopwords is already up-to-date!\n"
     ]
    },
    {
     "data": {
      "text/plain": [
       "True"
      ]
     },
     "execution_count": 2,
     "metadata": {},
     "output_type": "execute_result"
    }
   ],
   "source": [
    "nltk.download('stopwords')"
   ]
  },
  {
   "cell_type": "code",
   "execution_count": 3,
   "metadata": {
    "collapsed": true
   },
   "outputs": [],
   "source": [
    "from sklearn.datasets import fetch_20newsgroups\n",
    "categories = ['rec.sport.baseball']\n",
    "dataset = fetch_20newsgroups(subset='all',shuffle=True, random_state=42, categories=categories)\n",
    "corpus = dataset.data"
   ]
  },
  {
   "cell_type": "code",
   "execution_count": 12,
   "metadata": {
    "collapsed": true
   },
   "outputs": [],
   "source": [
    "stopset = set(stopwords.words('english'))\n",
    "stopset.update(['all','also','ask','become','like','later','so','lt','p','/p','br','amp','quot','field','font','normal','span','0px','rgb','style','51','spacing','text','helvetica','size','family','space','arial','height','indent','letter','line','none','sans','serif','transform','line','variant','weight','times','strong','new','video','title','white','word','letter','roman','0pt','16','color','12','14','21','neue','apple','class',])"
   ]
  },
  {
   "cell_type": "code",
   "execution_count": 5,
   "metadata": {
    "collapsed": false
   },
   "outputs": [
    {
     "data": {
      "text/plain": [
       "\"From: writingctr@leo.bsuvc.bsu.edu\\nSubject: Re: CUB fever.\\nOrganization: Ball State University, Muncie, In - Univ. Computing Svc's\\nLines: 21\\n\\n\\nIn article <kingoz.735285670@camelot>, kingoz@camelot.bradley.edu (Orin Roth) writes:\\n> \\n>    CUB fever is hitting me again. I'm beginning to think they have a \\n>    chance this year. (what the heck am i thinking?)\\n>    Sorry. Just a moment of incompetence.\\n>    I'll be ok. Really. \\n>    Orin.\\n>    Bradley U.\\n> \\n> --\\n> I'm really a jester in disguise!                                   \\nI hear ya!  Then again, we must remember that we are indeed Cub fans, and\\nthat the Cubs will eventually blow it.  After all, the Cubs are the easiest\\nteam in the National League to root for.  No Pressure.  You know they will\\nlose eventually.  Oh well, I suppose we must have faith.  After all, they\\ndo look pretty good, and they don't even have Sandberg back yet.  \\n\\nCUBS IN '93!!!!!\\n\\nCHA\\n\""
      ]
     },
     "execution_count": 5,
     "metadata": {},
     "output_type": "execute_result"
    }
   ],
   "source": [
    "corpus[0]"
   ]
  },
  {
   "cell_type": "code",
   "execution_count": 6,
   "metadata": {
    "collapsed": true
   },
   "outputs": [],
   "source": [
    "vectorizer = TfidfVectorizer(stop_words=stopset,\n",
    "                                 use_idf=True, ngram_range=(1, 3))\n",
    "X = vectorizer.fit_transform(corpus)"
   ]
  },
  {
   "cell_type": "code",
   "execution_count": 7,
   "metadata": {
    "collapsed": false
   },
   "outputs": [
    {
     "name": "stdout",
     "output_type": "stream",
     "text": [
      "  (0, 52229)\t0.073652687439\n",
      "  (0, 187960)\t0.073652687439\n",
      "  (0, 29687)\t0.073652687439\n",
      "  (0, 145363)\t0.073652687439\n",
      "  (0, 64604)\t0.073652687439\n",
      "  (0, 78367)\t0.073652687439\n",
      "  (0, 132652)\t0.073652687439\n",
      "  (0, 103064)\t0.073652687439\n",
      "  (0, 66997)\t0.073652687439\n",
      "  (0, 114017)\t0.073652687439\n",
      "  (0, 162236)\t0.073652687439\n",
      "  (0, 179955)\t0.073652687439\n",
      "  (0, 119382)\t0.073652687439\n",
      "  (0, 64742)\t0.073652687439\n",
      "  (0, 103556)\t0.073652687439\n",
      "  (0, 95763)\t0.073652687439\n",
      "  (0, 132567)\t0.073652687439\n",
      "  (0, 142527)\t0.073652687439\n",
      "  (0, 97938)\t0.073652687439\n",
      "  (0, 114656)\t0.073652687439\n",
      "  (0, 164607)\t0.073652687439\n",
      "  (0, 59810)\t0.073652687439\n",
      "  (0, 52269)\t0.073652687439\n",
      "  (0, 36466)\t0.073652687439\n",
      "  (0, 64728)\t0.073652687439\n",
      "  :\t:\n",
      "  (0, 142763)\t0.0553482070951\n",
      "  (0, 122063)\t0.11069641419\n",
      "  (0, 38265)\t0.0992624283609\n",
      "  (0, 41436)\t0.104818537242\n",
      "  (0, 17306)\t0.073652687439\n",
      "  (0, 95160)\t0.11069641419\n",
      "  (0, 26507)\t0.0161246502539\n",
      "  (0, 7926)\t0.0376276528198\n",
      "  (0, 100757)\t0.0102777150507\n",
      "  (0, 162824)\t0.0608545549183\n",
      "  (0, 48951)\t0.0389063101002\n",
      "  (0, 174385)\t0.0392526458093\n",
      "  (0, 113813)\t0.0608545549183\n",
      "  (0, 174421)\t0.0179872336028\n",
      "  (0, 157868)\t0.0373315183174\n",
      "  (0, 30210)\t0.030697863019\n",
      "  (0, 121448)\t0.0102983950679\n",
      "  (0, 68554)\t0.124858693402\n",
      "  (0, 52151)\t0.161320245937\n",
      "  (0, 160756)\t0.0102159249934\n",
      "  (0, 60309)\t0.0237947331321\n",
      "  (0, 39506)\t0.0506536592862\n",
      "  (0, 39516)\t0.0506536592862\n",
      "  (0, 98951)\t0.0496312141805\n",
      "  (0, 185444)\t0.073652687439\n"
     ]
    }
   ],
   "source": [
    "print(X[0])"
   ]
  },
  {
   "cell_type": "code",
   "execution_count": 8,
   "metadata": {
    "collapsed": false
   },
   "outputs": [
    {
     "data": {
      "text/plain": [
       "TruncatedSVD(algorithm='randomized', n_components=27, n_iter=100,\n",
       "       random_state=None, tol=0.0)"
      ]
     },
     "execution_count": 8,
     "metadata": {},
     "output_type": "execute_result"
    }
   ],
   "source": [
    "lsa = TruncatedSVD(n_components=27, n_iter=100)\n",
    "lsa.fit(X)"
   ]
  },
  {
   "cell_type": "code",
   "execution_count": 9,
   "metadata": {
    "collapsed": false
   },
   "outputs": [
    {
     "data": {
      "text/plain": [
       "array([ 0.01617493,  0.00504368,  0.00080695, ...,  0.00107496,\n",
       "        0.00107496,  0.00107496])"
      ]
     },
     "execution_count": 9,
     "metadata": {},
     "output_type": "execute_result"
    }
   ],
   "source": [
    "lsa.components_[0]"
   ]
  },
  {
   "cell_type": "code",
   "execution_count": 11,
   "metadata": {
    "collapsed": false
   },
   "outputs": [
    {
     "name": "stdout",
     "output_type": "stream",
     "text": [
      "Concept 0:\n",
      "edu\n",
      "com\n",
      "year\n",
      "writes\n",
      "team\n",
      "would\n",
      "game\n",
      "article\n",
      "cs\n",
      "baseball\n",
      " \n",
      "Concept 1:\n",
      "jewish\n",
      "edu\n",
      "university\n",
      "two\n",
      "like\n",
      "organization\n",
      "baseball players\n",
      "organization university\n",
      "10\n",
      "00 00 american\n",
      " \n",
      "Concept 2:\n",
      "writes\n",
      "edu\n",
      "new\n",
      "subject\n",
      "runs\n",
      "cs\n",
      "writes article\n",
      "think\n",
      "morris\n",
      "nntp posting\n",
      " \n",
      "Concept 3:\n",
      "game\n",
      "com\n",
      "games\n",
      "hirschbeck\n",
      "university\n",
      "gant\n",
      "best\n",
      "would\n",
      "better\n",
      "host\n",
      " \n",
      "Concept 4:\n",
      "like\n",
      "cs\n",
      "year\n",
      "know\n",
      "base\n",
      "ball\n",
      "play\n",
      "win\n",
      "morris\n",
      "get\n",
      " \n",
      "Concept 5:\n",
      "games\n",
      "would\n",
      "runs\n",
      "also\n",
      "get\n",
      "maybe\n",
      "time\n",
      "league\n",
      "hitter\n",
      "say\n",
      " \n",
      "Concept 6:\n",
      "00\n",
      "00 00\n",
      "00 00 00\n",
      "game\n",
      "players\n",
      "00 00 000\n",
      "first\n",
      "also\n",
      "think\n",
      "runs\n",
      " \n",
      "Concept 7:\n",
      "know\n",
      "well\n",
      "season\n",
      "get\n",
      "league\n",
      "player\n",
      "might\n",
      "world\n",
      "never\n",
      "enough\n",
      " \n",
      "Concept 8:\n",
      "00\n",
      "see\n",
      "back\n",
      "first\n",
      "baseball\n",
      "well\n",
      "maybe\n",
      "better\n",
      "edu organization\n",
      "really\n",
      " \n",
      "Concept 9:\n",
      "00\n",
      "00 00\n",
      "00 00 00\n",
      "would\n",
      "year\n",
      "nntp posting host\n",
      "posting host\n",
      "one\n",
      "nntp posting\n",
      "roger\n",
      " \n",
      "Concept 10:\n",
      "games\n",
      "com\n",
      "host\n",
      "like\n",
      "distribution\n",
      "gant\n",
      "pitcher\n",
      "league\n",
      "say\n",
      "big\n",
      " \n",
      "Concept 11:\n",
      "games\n",
      "game\n",
      "roger\n",
      "ca\n",
      "could\n",
      "com\n",
      "get\n",
      "pitching\n",
      "go\n",
      "10\n",
      " \n",
      "Concept 12:\n",
      "team\n",
      "cs\n",
      "batting\n",
      "run\n",
      "know\n",
      "subject\n",
      "baseball\n",
      "braves\n",
      "12\n",
      "long\n",
      " \n",
      "Concept 13:\n",
      "edu\n",
      "win\n",
      "year\n",
      "could\n",
      "writes\n",
      "good\n",
      "organization\n",
      "first\n",
      "time\n",
      "since\n",
      " \n",
      "Concept 14:\n",
      "baseball\n",
      "university\n",
      "one\n",
      "games\n",
      "best\n",
      "better\n",
      "braves\n",
      "right\n",
      "even\n",
      "really\n",
      " \n",
      "Concept 15:\n",
      "think\n",
      "edu\n",
      "cs\n",
      "nntp posting\n",
      "pitcher\n",
      "baseball\n",
      "posting\n",
      "could\n",
      "cubs\n",
      "really\n",
      " \n",
      "Concept 16:\n",
      "team\n",
      "think\n",
      "one\n",
      "first\n",
      "well\n",
      "pitcher\n",
      "00 00 american\n",
      "make\n",
      "would\n",
      "alomar\n",
      " \n",
      "Concept 17:\n",
      "university\n",
      "would\n",
      "year\n",
      "edu\n",
      "good\n",
      "much\n",
      "one\n",
      "games\n",
      "go\n",
      "think\n",
      " \n",
      "Concept 18:\n",
      "cs\n",
      "good\n",
      "team\n",
      "writes\n",
      "back\n",
      "league\n",
      "years\n",
      "posting\n",
      "david\n",
      "hitting\n",
      " \n",
      "Concept 19:\n",
      "game\n",
      "time\n",
      "think\n",
      "make\n",
      "would\n",
      "could\n",
      "year\n",
      "10\n",
      "two\n",
      "batting\n",
      " \n",
      "Concept 20:\n",
      "would\n",
      "com\n",
      "subject\n",
      "organization\n",
      "really\n",
      "like\n",
      "first\n",
      "know\n",
      "article\n",
      "ball\n",
      " \n",
      "Concept 21:\n",
      "one\n",
      "time\n",
      "organization\n",
      "host\n",
      "know\n",
      "get\n",
      "much\n",
      "reply\n",
      "good\n",
      "nntp posting\n",
      " \n",
      "Concept 22:\n",
      "university\n",
      "cs\n",
      "even\n",
      "say\n",
      "host\n",
      "com\n",
      "like\n",
      "another\n",
      "first\n",
      "know\n",
      " \n",
      "Concept 23:\n",
      "subject\n",
      "one\n",
      "writes\n",
      "lines\n",
      "article\n",
      "two\n",
      "time\n",
      "00 00 american\n",
      "team\n",
      "years\n",
      " \n",
      "Concept 24:\n",
      "would\n",
      "baseball\n",
      "writes\n",
      "good\n",
      "article\n",
      "host\n",
      "00 00 baltimore\n",
      "ca\n",
      "two\n",
      "nntp posting\n",
      " \n",
      "Concept 25:\n",
      "edu\n",
      "games\n",
      "organization\n",
      "year\n",
      "know\n",
      "writes\n",
      "article\n",
      "hit\n",
      "university\n",
      "look\n",
      " \n",
      "Concept 26:\n",
      "00 00 baltimore\n",
      "nntp posting\n",
      "nntp posting host\n",
      "posting host\n",
      "nntp\n",
      "university\n",
      "first\n",
      "writes\n",
      "posting\n",
      "time\n",
      " \n"
     ]
    }
   ],
   "source": [
    "terms = vectorizer.get_feature_names()\n",
    "for i, comp in enumerate(lsa.components_): \n",
    "    termsInComp = zip (terms,comp)\n",
    "    sortedTerms =  sorted(termsInComp, key=lambda x: x[1], reverse=True) [:10]\n",
    "    print(\"Concept %d:\" % i)\n",
    "    for term in sortedTerms:\n",
    "        print(term[0])\n",
    "    print(\" \")"
   ]
  },
  {
   "cell_type": "code",
   "execution_count": null,
   "metadata": {
    "collapsed": true
   },
   "outputs": [],
   "source": []
  }
 ],
 "metadata": {
  "anaconda-cloud": {},
  "kernelspec": {
   "display_name": "Python [Root]",
   "language": "python",
   "name": "Python [Root]"
  },
  "language_info": {
   "codemirror_mode": {
    "name": "ipython",
    "version": 3
   },
   "file_extension": ".py",
   "mimetype": "text/x-python",
   "name": "python",
   "nbconvert_exporter": "python",
   "pygments_lexer": "ipython3",
   "version": "3.5.2"
  }
 },
 "nbformat": 4,
 "nbformat_minor": 0
}
